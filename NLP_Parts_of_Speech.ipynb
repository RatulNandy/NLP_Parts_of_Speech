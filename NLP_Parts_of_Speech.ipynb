{
 "cells": [
  {
   "cell_type": "markdown",
   "metadata": {},
   "source": [
    "### Parts-of-Speech Assessment\n",
    "\n",
    "Reference : https://stackabuse.com/python-for-nlp-parts-of-speech-tagging-and-named-entity-recognition/"
   ]
  },
  {
   "cell_type": "markdown",
   "metadata": {},
   "source": [
    "### Parts of Speech Assessment\n",
    "\n",
    "#### For this assessment we'll be using the short story 'The Tale of Peter Rabbit' by Beatrx Potter (1902).\n",
    "#### The story is in the public domain; the text file was obtained from 'Project Gutenberg'"
   ]
  },
  {
   "cell_type": "code",
   "execution_count": 483,
   "metadata": {},
   "outputs": [],
   "source": [
    "# RUN THIS CELL to peform standard imports:\n",
    "\n",
    "import spacy\n",
    "nlp = spacy.load('en_core_web_sm')\n",
    "from spacy import displacy"
   ]
  },
  {
   "cell_type": "markdown",
   "metadata": {},
   "source": [
    "### 1. Create a Doc object from the file peterrabbit.txt"
   ]
  },
  {
   "cell_type": "code",
   "execution_count": 484,
   "metadata": {},
   "outputs": [],
   "source": [
    "filepath = '/Users/ratulnandy/Documents/MSAAI/NLP/Module 5/peterrabbit.txt'"
   ]
  },
  {
   "cell_type": "code",
   "execution_count": 485,
   "metadata": {},
   "outputs": [],
   "source": [
    "with open(filepath) as f:\n",
    "    filetext = f.read()\n",
    "    doc = nlp(filetext)"
   ]
  },
  {
   "cell_type": "markdown",
   "metadata": {},
   "source": [
    "### 2. For every token in the third sentence, print the token text, the POS tag, the fine-grained TAG, and the description of the fine-grained tag"
   ]
  },
  {
   "cell_type": "code",
   "execution_count": 486,
   "metadata": {},
   "outputs": [],
   "source": [
    "sentence = [sent for sent in doc.sents]"
   ]
  },
  {
   "cell_type": "code",
   "execution_count": 487,
   "metadata": {},
   "outputs": [
    {
     "name": "stdout",
     "output_type": "stream",
     "text": [
      "They lived with their Mother in a sand-bank, underneath the root of a\n",
      "very big fir-tree.\n"
     ]
    }
   ],
   "source": [
    "# As per the file downloaded from 'Project Gutenberg', this version of spaCy is treating this sentence as sentence 4.\n",
    "\n",
    "print(sentence[3].text)"
   ]
  },
  {
   "cell_type": "code",
   "execution_count": 488,
   "metadata": {},
   "outputs": [],
   "source": [
    "sen3 = nlp(sentence[3].text)"
   ]
  },
  {
   "cell_type": "code",
   "execution_count": 489,
   "metadata": {},
   "outputs": [
    {
     "name": "stdout",
     "output_type": "stream",
     "text": [
      "They         PRON       PRP      pronoun, personal\n",
      "lived        VERB       VBD      verb, past tense\n",
      "with         ADP        IN       conjunction, subordinating or preposition\n",
      "their        PRON       PRP$     pronoun, possessive\n",
      "Mother       NOUN       NN       noun, singular or mass\n",
      "in           ADP        IN       conjunction, subordinating or preposition\n",
      "a            DET        DT       determiner\n",
      "sand         NOUN       NN       noun, singular or mass\n",
      "-            PUNCT      HYPH     punctuation mark, hyphen\n",
      "bank         NOUN       NN       noun, singular or mass\n",
      ",            PUNCT      ,        punctuation mark, comma\n",
      "underneath   ADP        IN       conjunction, subordinating or preposition\n",
      "the          DET        DT       determiner\n",
      "root         NOUN       NN       noun, singular or mass\n",
      "of           ADP        IN       conjunction, subordinating or preposition\n",
      "a            DET        DT       determiner\n",
      "\n",
      "            SPACE      _SP      whitespace\n",
      "very         ADV        RB       adverb\n",
      "big          ADJ        JJ       adjective (English), other noun-modifier (Chinese)\n",
      "fir          NOUN       NN       noun, singular or mass\n",
      "-            PUNCT      HYPH     punctuation mark, hyphen\n",
      "tree         NOUN       NN       noun, singular or mass\n",
      ".            PUNCT      .        punctuation mark, sentence closer\n"
     ]
    }
   ],
   "source": [
    "for word in sen3:\n",
    "    print(f'{word.text:{12}} {word.pos_:{10}} {word.tag_:{8}} {spacy.explain(word.tag_)}')"
   ]
  },
  {
   "cell_type": "markdown",
   "metadata": {},
   "source": [
    "### 3. Provide a frequency list of POS tags from the entire document"
   ]
  },
  {
   "cell_type": "code",
   "execution_count": 490,
   "metadata": {},
   "outputs": [],
   "source": [
    "POS_count = doc.count_by(spacy.attrs.POS)"
   ]
  },
  {
   "cell_type": "code",
   "execution_count": 491,
   "metadata": {},
   "outputs": [
    {
     "name": "stdout",
     "output_type": "stream",
     "text": [
      "84. ADJ     : 55\n",
      "85. ADP     : 126\n",
      "86. ADV     : 65\n",
      "87. AUX     : 41\n",
      "89. CCONJ   : 61\n",
      "90. DET     : 95\n",
      "92. NOUN    : 173\n",
      "93. NUM     : 8\n",
      "94. PART    : 29\n",
      "95. PRON    : 105\n",
      "96. PROPN   : 72\n",
      "97. PUNCT   : 173\n",
      "98. SCONJ   : 16\n",
      "100. VERB    : 140\n",
      "103. SPACE   : 98\n"
     ]
    }
   ],
   "source": [
    "for i,j in sorted(POS_count.items()):\n",
    "    print(f'{i}. {doc.vocab[i].text:{8}}: {j}')"
   ]
  },
  {
   "cell_type": "markdown",
   "metadata": {},
   "source": [
    "### 4. CHALLENGE: What percentage of tokens are nouns?\n",
    "HINT: the attribute ID for 'NOUN' is 91"
   ]
  },
  {
   "cell_type": "code",
   "execution_count": 492,
   "metadata": {},
   "outputs": [],
   "source": [
    "noun=0\n",
    "total=0\n",
    "\n",
    "for n,t in sorted(POS_count.items()):\n",
    "    if n==92:\n",
    "        noun=t+noun\n",
    "    total = t+total\n"
   ]
  },
  {
   "cell_type": "code",
   "execution_count": 493,
   "metadata": {},
   "outputs": [
    {
     "name": "stdout",
     "output_type": "stream",
     "text": [
      "Total Noun : 173\n"
     ]
    }
   ],
   "source": [
    "print('Total Noun : '+str(noun))"
   ]
  },
  {
   "cell_type": "code",
   "execution_count": 494,
   "metadata": {},
   "outputs": [
    {
     "name": "stdout",
     "output_type": "stream",
     "text": [
      "Total tokens : 1257\n"
     ]
    }
   ],
   "source": [
    "print('Total tokens : '+str(total))"
   ]
  },
  {
   "cell_type": "code",
   "execution_count": 495,
   "metadata": {},
   "outputs": [],
   "source": [
    "perc = round((noun/total)*100,3)"
   ]
  },
  {
   "cell_type": "code",
   "execution_count": 496,
   "metadata": {},
   "outputs": [
    {
     "name": "stdout",
     "output_type": "stream",
     "text": [
      "Percentage of tokens that are nouns : 13.763%\n"
     ]
    }
   ],
   "source": [
    "print('Percentage of tokens that are nouns : '+str(perc)+'%')"
   ]
  },
  {
   "cell_type": "markdown",
   "metadata": {},
   "source": [
    "### 5. Display the Dependency Parse for the third sentence"
   ]
  },
  {
   "cell_type": "code",
   "execution_count": 497,
   "metadata": {},
   "outputs": [
    {
     "data": {
      "text/html": [
       "<span class=\"tex2jax_ignore\"><svg xmlns=\"http://www.w3.org/2000/svg\" xmlns:xlink=\"http://www.w3.org/1999/xlink\" xml:lang=\"en\" id=\"ae6cbfccbc914edabddac056eed684bf-0\" class=\"displacy\" width=\"2330\" height=\"557.0\" direction=\"ltr\" style=\"max-width: none; height: 557.0px; color: #000000; background: #ffffff; font-family: Arial; direction: ltr\">\n",
       "<text class=\"displacy-token\" fill=\"currentColor\" text-anchor=\"middle\" y=\"467.0\">\n",
       "    <tspan class=\"displacy-word\" fill=\"currentColor\" x=\"50\">They</tspan>\n",
       "    <tspan class=\"displacy-tag\" dy=\"2em\" fill=\"currentColor\" x=\"50\">PRON</tspan>\n",
       "</text>\n",
       "\n",
       "<text class=\"displacy-token\" fill=\"currentColor\" text-anchor=\"middle\" y=\"467.0\">\n",
       "    <tspan class=\"displacy-word\" fill=\"currentColor\" x=\"170\">lived</tspan>\n",
       "    <tspan class=\"displacy-tag\" dy=\"2em\" fill=\"currentColor\" x=\"170\">VERB</tspan>\n",
       "</text>\n",
       "\n",
       "<text class=\"displacy-token\" fill=\"currentColor\" text-anchor=\"middle\" y=\"467.0\">\n",
       "    <tspan class=\"displacy-word\" fill=\"currentColor\" x=\"290\">with</tspan>\n",
       "    <tspan class=\"displacy-tag\" dy=\"2em\" fill=\"currentColor\" x=\"290\">ADP</tspan>\n",
       "</text>\n",
       "\n",
       "<text class=\"displacy-token\" fill=\"currentColor\" text-anchor=\"middle\" y=\"467.0\">\n",
       "    <tspan class=\"displacy-word\" fill=\"currentColor\" x=\"410\">their</tspan>\n",
       "    <tspan class=\"displacy-tag\" dy=\"2em\" fill=\"currentColor\" x=\"410\">PRON</tspan>\n",
       "</text>\n",
       "\n",
       "<text class=\"displacy-token\" fill=\"currentColor\" text-anchor=\"middle\" y=\"467.0\">\n",
       "    <tspan class=\"displacy-word\" fill=\"currentColor\" x=\"530\">Mother</tspan>\n",
       "    <tspan class=\"displacy-tag\" dy=\"2em\" fill=\"currentColor\" x=\"530\">NOUN</tspan>\n",
       "</text>\n",
       "\n",
       "<text class=\"displacy-token\" fill=\"currentColor\" text-anchor=\"middle\" y=\"467.0\">\n",
       "    <tspan class=\"displacy-word\" fill=\"currentColor\" x=\"650\">in</tspan>\n",
       "    <tspan class=\"displacy-tag\" dy=\"2em\" fill=\"currentColor\" x=\"650\">ADP</tspan>\n",
       "</text>\n",
       "\n",
       "<text class=\"displacy-token\" fill=\"currentColor\" text-anchor=\"middle\" y=\"467.0\">\n",
       "    <tspan class=\"displacy-word\" fill=\"currentColor\" x=\"770\">a</tspan>\n",
       "    <tspan class=\"displacy-tag\" dy=\"2em\" fill=\"currentColor\" x=\"770\">DET</tspan>\n",
       "</text>\n",
       "\n",
       "<text class=\"displacy-token\" fill=\"currentColor\" text-anchor=\"middle\" y=\"467.0\">\n",
       "    <tspan class=\"displacy-word\" fill=\"currentColor\" x=\"890\">sand-</tspan>\n",
       "    <tspan class=\"displacy-tag\" dy=\"2em\" fill=\"currentColor\" x=\"890\">NOUN</tspan>\n",
       "</text>\n",
       "\n",
       "<text class=\"displacy-token\" fill=\"currentColor\" text-anchor=\"middle\" y=\"467.0\">\n",
       "    <tspan class=\"displacy-word\" fill=\"currentColor\" x=\"1010\">bank,</tspan>\n",
       "    <tspan class=\"displacy-tag\" dy=\"2em\" fill=\"currentColor\" x=\"1010\">NOUN</tspan>\n",
       "</text>\n",
       "\n",
       "<text class=\"displacy-token\" fill=\"currentColor\" text-anchor=\"middle\" y=\"467.0\">\n",
       "    <tspan class=\"displacy-word\" fill=\"currentColor\" x=\"1130\">underneath</tspan>\n",
       "    <tspan class=\"displacy-tag\" dy=\"2em\" fill=\"currentColor\" x=\"1130\">ADP</tspan>\n",
       "</text>\n",
       "\n",
       "<text class=\"displacy-token\" fill=\"currentColor\" text-anchor=\"middle\" y=\"467.0\">\n",
       "    <tspan class=\"displacy-word\" fill=\"currentColor\" x=\"1250\">the</tspan>\n",
       "    <tspan class=\"displacy-tag\" dy=\"2em\" fill=\"currentColor\" x=\"1250\">DET</tspan>\n",
       "</text>\n",
       "\n",
       "<text class=\"displacy-token\" fill=\"currentColor\" text-anchor=\"middle\" y=\"467.0\">\n",
       "    <tspan class=\"displacy-word\" fill=\"currentColor\" x=\"1370\">root</tspan>\n",
       "    <tspan class=\"displacy-tag\" dy=\"2em\" fill=\"currentColor\" x=\"1370\">NOUN</tspan>\n",
       "</text>\n",
       "\n",
       "<text class=\"displacy-token\" fill=\"currentColor\" text-anchor=\"middle\" y=\"467.0\">\n",
       "    <tspan class=\"displacy-word\" fill=\"currentColor\" x=\"1490\">of</tspan>\n",
       "    <tspan class=\"displacy-tag\" dy=\"2em\" fill=\"currentColor\" x=\"1490\">ADP</tspan>\n",
       "</text>\n",
       "\n",
       "<text class=\"displacy-token\" fill=\"currentColor\" text-anchor=\"middle\" y=\"467.0\">\n",
       "    <tspan class=\"displacy-word\" fill=\"currentColor\" x=\"1610\">a</tspan>\n",
       "    <tspan class=\"displacy-tag\" dy=\"2em\" fill=\"currentColor\" x=\"1610\">DET</tspan>\n",
       "</text>\n",
       "\n",
       "<text class=\"displacy-token\" fill=\"currentColor\" text-anchor=\"middle\" y=\"467.0\">\n",
       "    <tspan class=\"displacy-word\" fill=\"currentColor\" x=\"1730\">\n",
       "</tspan>\n",
       "    <tspan class=\"displacy-tag\" dy=\"2em\" fill=\"currentColor\" x=\"1730\">SPACE</tspan>\n",
       "</text>\n",
       "\n",
       "<text class=\"displacy-token\" fill=\"currentColor\" text-anchor=\"middle\" y=\"467.0\">\n",
       "    <tspan class=\"displacy-word\" fill=\"currentColor\" x=\"1850\">very</tspan>\n",
       "    <tspan class=\"displacy-tag\" dy=\"2em\" fill=\"currentColor\" x=\"1850\">ADV</tspan>\n",
       "</text>\n",
       "\n",
       "<text class=\"displacy-token\" fill=\"currentColor\" text-anchor=\"middle\" y=\"467.0\">\n",
       "    <tspan class=\"displacy-word\" fill=\"currentColor\" x=\"1970\">big</tspan>\n",
       "    <tspan class=\"displacy-tag\" dy=\"2em\" fill=\"currentColor\" x=\"1970\">ADJ</tspan>\n",
       "</text>\n",
       "\n",
       "<text class=\"displacy-token\" fill=\"currentColor\" text-anchor=\"middle\" y=\"467.0\">\n",
       "    <tspan class=\"displacy-word\" fill=\"currentColor\" x=\"2090\">fir-</tspan>\n",
       "    <tspan class=\"displacy-tag\" dy=\"2em\" fill=\"currentColor\" x=\"2090\">NOUN</tspan>\n",
       "</text>\n",
       "\n",
       "<text class=\"displacy-token\" fill=\"currentColor\" text-anchor=\"middle\" y=\"467.0\">\n",
       "    <tspan class=\"displacy-word\" fill=\"currentColor\" x=\"2210\">tree.</tspan>\n",
       "    <tspan class=\"displacy-tag\" dy=\"2em\" fill=\"currentColor\" x=\"2210\">NOUN</tspan>\n",
       "</text>\n",
       "\n",
       "<g class=\"displacy-arrow\">\n",
       "    <path class=\"displacy-arc\" id=\"arrow-ae6cbfccbc914edabddac056eed684bf-0-0\" stroke-width=\"2px\" d=\"M70,422.0 C70,362.0 140.0,362.0 140.0,422.0\" fill=\"none\" stroke=\"currentColor\"/>\n",
       "    <text dy=\"1.25em\" style=\"font-size: 0.8em; letter-spacing: 1px\">\n",
       "        <textPath xlink:href=\"#arrow-ae6cbfccbc914edabddac056eed684bf-0-0\" class=\"displacy-label\" startOffset=\"50%\" side=\"left\" fill=\"currentColor\" text-anchor=\"middle\">nsubj</textPath>\n",
       "    </text>\n",
       "    <path class=\"displacy-arrowhead\" d=\"M70,424.0 L62,412.0 78,412.0\" fill=\"currentColor\"/>\n",
       "</g>\n",
       "\n",
       "<g class=\"displacy-arrow\">\n",
       "    <path class=\"displacy-arc\" id=\"arrow-ae6cbfccbc914edabddac056eed684bf-0-1\" stroke-width=\"2px\" d=\"M190,422.0 C190,362.0 260.0,362.0 260.0,422.0\" fill=\"none\" stroke=\"currentColor\"/>\n",
       "    <text dy=\"1.25em\" style=\"font-size: 0.8em; letter-spacing: 1px\">\n",
       "        <textPath xlink:href=\"#arrow-ae6cbfccbc914edabddac056eed684bf-0-1\" class=\"displacy-label\" startOffset=\"50%\" side=\"left\" fill=\"currentColor\" text-anchor=\"middle\">prep</textPath>\n",
       "    </text>\n",
       "    <path class=\"displacy-arrowhead\" d=\"M260.0,424.0 L268.0,412.0 252.0,412.0\" fill=\"currentColor\"/>\n",
       "</g>\n",
       "\n",
       "<g class=\"displacy-arrow\">\n",
       "    <path class=\"displacy-arc\" id=\"arrow-ae6cbfccbc914edabddac056eed684bf-0-2\" stroke-width=\"2px\" d=\"M430,422.0 C430,362.0 500.0,362.0 500.0,422.0\" fill=\"none\" stroke=\"currentColor\"/>\n",
       "    <text dy=\"1.25em\" style=\"font-size: 0.8em; letter-spacing: 1px\">\n",
       "        <textPath xlink:href=\"#arrow-ae6cbfccbc914edabddac056eed684bf-0-2\" class=\"displacy-label\" startOffset=\"50%\" side=\"left\" fill=\"currentColor\" text-anchor=\"middle\">poss</textPath>\n",
       "    </text>\n",
       "    <path class=\"displacy-arrowhead\" d=\"M430,424.0 L422,412.0 438,412.0\" fill=\"currentColor\"/>\n",
       "</g>\n",
       "\n",
       "<g class=\"displacy-arrow\">\n",
       "    <path class=\"displacy-arc\" id=\"arrow-ae6cbfccbc914edabddac056eed684bf-0-3\" stroke-width=\"2px\" d=\"M310,422.0 C310,302.0 505.0,302.0 505.0,422.0\" fill=\"none\" stroke=\"currentColor\"/>\n",
       "    <text dy=\"1.25em\" style=\"font-size: 0.8em; letter-spacing: 1px\">\n",
       "        <textPath xlink:href=\"#arrow-ae6cbfccbc914edabddac056eed684bf-0-3\" class=\"displacy-label\" startOffset=\"50%\" side=\"left\" fill=\"currentColor\" text-anchor=\"middle\">pobj</textPath>\n",
       "    </text>\n",
       "    <path class=\"displacy-arrowhead\" d=\"M505.0,424.0 L513.0,412.0 497.0,412.0\" fill=\"currentColor\"/>\n",
       "</g>\n",
       "\n",
       "<g class=\"displacy-arrow\">\n",
       "    <path class=\"displacy-arc\" id=\"arrow-ae6cbfccbc914edabddac056eed684bf-0-4\" stroke-width=\"2px\" d=\"M190,422.0 C190,182.0 635.0,182.0 635.0,422.0\" fill=\"none\" stroke=\"currentColor\"/>\n",
       "    <text dy=\"1.25em\" style=\"font-size: 0.8em; letter-spacing: 1px\">\n",
       "        <textPath xlink:href=\"#arrow-ae6cbfccbc914edabddac056eed684bf-0-4\" class=\"displacy-label\" startOffset=\"50%\" side=\"left\" fill=\"currentColor\" text-anchor=\"middle\">prep</textPath>\n",
       "    </text>\n",
       "    <path class=\"displacy-arrowhead\" d=\"M635.0,424.0 L643.0,412.0 627.0,412.0\" fill=\"currentColor\"/>\n",
       "</g>\n",
       "\n",
       "<g class=\"displacy-arrow\">\n",
       "    <path class=\"displacy-arc\" id=\"arrow-ae6cbfccbc914edabddac056eed684bf-0-5\" stroke-width=\"2px\" d=\"M790,422.0 C790,302.0 985.0,302.0 985.0,422.0\" fill=\"none\" stroke=\"currentColor\"/>\n",
       "    <text dy=\"1.25em\" style=\"font-size: 0.8em; letter-spacing: 1px\">\n",
       "        <textPath xlink:href=\"#arrow-ae6cbfccbc914edabddac056eed684bf-0-5\" class=\"displacy-label\" startOffset=\"50%\" side=\"left\" fill=\"currentColor\" text-anchor=\"middle\">det</textPath>\n",
       "    </text>\n",
       "    <path class=\"displacy-arrowhead\" d=\"M790,424.0 L782,412.0 798,412.0\" fill=\"currentColor\"/>\n",
       "</g>\n",
       "\n",
       "<g class=\"displacy-arrow\">\n",
       "    <path class=\"displacy-arc\" id=\"arrow-ae6cbfccbc914edabddac056eed684bf-0-6\" stroke-width=\"2px\" d=\"M910,422.0 C910,362.0 980.0,362.0 980.0,422.0\" fill=\"none\" stroke=\"currentColor\"/>\n",
       "    <text dy=\"1.25em\" style=\"font-size: 0.8em; letter-spacing: 1px\">\n",
       "        <textPath xlink:href=\"#arrow-ae6cbfccbc914edabddac056eed684bf-0-6\" class=\"displacy-label\" startOffset=\"50%\" side=\"left\" fill=\"currentColor\" text-anchor=\"middle\">compound</textPath>\n",
       "    </text>\n",
       "    <path class=\"displacy-arrowhead\" d=\"M910,424.0 L902,412.0 918,412.0\" fill=\"currentColor\"/>\n",
       "</g>\n",
       "\n",
       "<g class=\"displacy-arrow\">\n",
       "    <path class=\"displacy-arc\" id=\"arrow-ae6cbfccbc914edabddac056eed684bf-0-7\" stroke-width=\"2px\" d=\"M670,422.0 C670,242.0 990.0,242.0 990.0,422.0\" fill=\"none\" stroke=\"currentColor\"/>\n",
       "    <text dy=\"1.25em\" style=\"font-size: 0.8em; letter-spacing: 1px\">\n",
       "        <textPath xlink:href=\"#arrow-ae6cbfccbc914edabddac056eed684bf-0-7\" class=\"displacy-label\" startOffset=\"50%\" side=\"left\" fill=\"currentColor\" text-anchor=\"middle\">pobj</textPath>\n",
       "    </text>\n",
       "    <path class=\"displacy-arrowhead\" d=\"M990.0,424.0 L998.0,412.0 982.0,412.0\" fill=\"currentColor\"/>\n",
       "</g>\n",
       "\n",
       "<g class=\"displacy-arrow\">\n",
       "    <path class=\"displacy-arc\" id=\"arrow-ae6cbfccbc914edabddac056eed684bf-0-8\" stroke-width=\"2px\" d=\"M190,422.0 C190,2.0 1130.0,2.0 1130.0,422.0\" fill=\"none\" stroke=\"currentColor\"/>\n",
       "    <text dy=\"1.25em\" style=\"font-size: 0.8em; letter-spacing: 1px\">\n",
       "        <textPath xlink:href=\"#arrow-ae6cbfccbc914edabddac056eed684bf-0-8\" class=\"displacy-label\" startOffset=\"50%\" side=\"left\" fill=\"currentColor\" text-anchor=\"middle\">prep</textPath>\n",
       "    </text>\n",
       "    <path class=\"displacy-arrowhead\" d=\"M1130.0,424.0 L1138.0,412.0 1122.0,412.0\" fill=\"currentColor\"/>\n",
       "</g>\n",
       "\n",
       "<g class=\"displacy-arrow\">\n",
       "    <path class=\"displacy-arc\" id=\"arrow-ae6cbfccbc914edabddac056eed684bf-0-9\" stroke-width=\"2px\" d=\"M1270,422.0 C1270,362.0 1340.0,362.0 1340.0,422.0\" fill=\"none\" stroke=\"currentColor\"/>\n",
       "    <text dy=\"1.25em\" style=\"font-size: 0.8em; letter-spacing: 1px\">\n",
       "        <textPath xlink:href=\"#arrow-ae6cbfccbc914edabddac056eed684bf-0-9\" class=\"displacy-label\" startOffset=\"50%\" side=\"left\" fill=\"currentColor\" text-anchor=\"middle\">det</textPath>\n",
       "    </text>\n",
       "    <path class=\"displacy-arrowhead\" d=\"M1270,424.0 L1262,412.0 1278,412.0\" fill=\"currentColor\"/>\n",
       "</g>\n",
       "\n",
       "<g class=\"displacy-arrow\">\n",
       "    <path class=\"displacy-arc\" id=\"arrow-ae6cbfccbc914edabddac056eed684bf-0-10\" stroke-width=\"2px\" d=\"M1150,422.0 C1150,302.0 1345.0,302.0 1345.0,422.0\" fill=\"none\" stroke=\"currentColor\"/>\n",
       "    <text dy=\"1.25em\" style=\"font-size: 0.8em; letter-spacing: 1px\">\n",
       "        <textPath xlink:href=\"#arrow-ae6cbfccbc914edabddac056eed684bf-0-10\" class=\"displacy-label\" startOffset=\"50%\" side=\"left\" fill=\"currentColor\" text-anchor=\"middle\">pobj</textPath>\n",
       "    </text>\n",
       "    <path class=\"displacy-arrowhead\" d=\"M1345.0,424.0 L1353.0,412.0 1337.0,412.0\" fill=\"currentColor\"/>\n",
       "</g>\n",
       "\n",
       "<g class=\"displacy-arrow\">\n",
       "    <path class=\"displacy-arc\" id=\"arrow-ae6cbfccbc914edabddac056eed684bf-0-11\" stroke-width=\"2px\" d=\"M1390,422.0 C1390,362.0 1460.0,362.0 1460.0,422.0\" fill=\"none\" stroke=\"currentColor\"/>\n",
       "    <text dy=\"1.25em\" style=\"font-size: 0.8em; letter-spacing: 1px\">\n",
       "        <textPath xlink:href=\"#arrow-ae6cbfccbc914edabddac056eed684bf-0-11\" class=\"displacy-label\" startOffset=\"50%\" side=\"left\" fill=\"currentColor\" text-anchor=\"middle\">prep</textPath>\n",
       "    </text>\n",
       "    <path class=\"displacy-arrowhead\" d=\"M1460.0,424.0 L1468.0,412.0 1452.0,412.0\" fill=\"currentColor\"/>\n",
       "</g>\n",
       "\n",
       "<g class=\"displacy-arrow\">\n",
       "    <path class=\"displacy-arc\" id=\"arrow-ae6cbfccbc914edabddac056eed684bf-0-12\" stroke-width=\"2px\" d=\"M1630,422.0 C1630,122.0 2200.0,122.0 2200.0,422.0\" fill=\"none\" stroke=\"currentColor\"/>\n",
       "    <text dy=\"1.25em\" style=\"font-size: 0.8em; letter-spacing: 1px\">\n",
       "        <textPath xlink:href=\"#arrow-ae6cbfccbc914edabddac056eed684bf-0-12\" class=\"displacy-label\" startOffset=\"50%\" side=\"left\" fill=\"currentColor\" text-anchor=\"middle\">det</textPath>\n",
       "    </text>\n",
       "    <path class=\"displacy-arrowhead\" d=\"M1630,424.0 L1622,412.0 1638,412.0\" fill=\"currentColor\"/>\n",
       "</g>\n",
       "\n",
       "<g class=\"displacy-arrow\">\n",
       "    <path class=\"displacy-arc\" id=\"arrow-ae6cbfccbc914edabddac056eed684bf-0-13\" stroke-width=\"2px\" d=\"M1750,422.0 C1750,182.0 2195.0,182.0 2195.0,422.0\" fill=\"none\" stroke=\"currentColor\"/>\n",
       "    <text dy=\"1.25em\" style=\"font-size: 0.8em; letter-spacing: 1px\">\n",
       "        <textPath xlink:href=\"#arrow-ae6cbfccbc914edabddac056eed684bf-0-13\" class=\"displacy-label\" startOffset=\"50%\" side=\"left\" fill=\"currentColor\" text-anchor=\"middle\">nmod</textPath>\n",
       "    </text>\n",
       "    <path class=\"displacy-arrowhead\" d=\"M1750,424.0 L1742,412.0 1758,412.0\" fill=\"currentColor\"/>\n",
       "</g>\n",
       "\n",
       "<g class=\"displacy-arrow\">\n",
       "    <path class=\"displacy-arc\" id=\"arrow-ae6cbfccbc914edabddac056eed684bf-0-14\" stroke-width=\"2px\" d=\"M1870,422.0 C1870,362.0 1940.0,362.0 1940.0,422.0\" fill=\"none\" stroke=\"currentColor\"/>\n",
       "    <text dy=\"1.25em\" style=\"font-size: 0.8em; letter-spacing: 1px\">\n",
       "        <textPath xlink:href=\"#arrow-ae6cbfccbc914edabddac056eed684bf-0-14\" class=\"displacy-label\" startOffset=\"50%\" side=\"left\" fill=\"currentColor\" text-anchor=\"middle\">advmod</textPath>\n",
       "    </text>\n",
       "    <path class=\"displacy-arrowhead\" d=\"M1870,424.0 L1862,412.0 1878,412.0\" fill=\"currentColor\"/>\n",
       "</g>\n",
       "\n",
       "<g class=\"displacy-arrow\">\n",
       "    <path class=\"displacy-arc\" id=\"arrow-ae6cbfccbc914edabddac056eed684bf-0-15\" stroke-width=\"2px\" d=\"M1990,422.0 C1990,302.0 2185.0,302.0 2185.0,422.0\" fill=\"none\" stroke=\"currentColor\"/>\n",
       "    <text dy=\"1.25em\" style=\"font-size: 0.8em; letter-spacing: 1px\">\n",
       "        <textPath xlink:href=\"#arrow-ae6cbfccbc914edabddac056eed684bf-0-15\" class=\"displacy-label\" startOffset=\"50%\" side=\"left\" fill=\"currentColor\" text-anchor=\"middle\">amod</textPath>\n",
       "    </text>\n",
       "    <path class=\"displacy-arrowhead\" d=\"M1990,424.0 L1982,412.0 1998,412.0\" fill=\"currentColor\"/>\n",
       "</g>\n",
       "\n",
       "<g class=\"displacy-arrow\">\n",
       "    <path class=\"displacy-arc\" id=\"arrow-ae6cbfccbc914edabddac056eed684bf-0-16\" stroke-width=\"2px\" d=\"M2110,422.0 C2110,362.0 2180.0,362.0 2180.0,422.0\" fill=\"none\" stroke=\"currentColor\"/>\n",
       "    <text dy=\"1.25em\" style=\"font-size: 0.8em; letter-spacing: 1px\">\n",
       "        <textPath xlink:href=\"#arrow-ae6cbfccbc914edabddac056eed684bf-0-16\" class=\"displacy-label\" startOffset=\"50%\" side=\"left\" fill=\"currentColor\" text-anchor=\"middle\">compound</textPath>\n",
       "    </text>\n",
       "    <path class=\"displacy-arrowhead\" d=\"M2110,424.0 L2102,412.0 2118,412.0\" fill=\"currentColor\"/>\n",
       "</g>\n",
       "\n",
       "<g class=\"displacy-arrow\">\n",
       "    <path class=\"displacy-arc\" id=\"arrow-ae6cbfccbc914edabddac056eed684bf-0-17\" stroke-width=\"2px\" d=\"M1510,422.0 C1510,62.0 2205.0,62.0 2205.0,422.0\" fill=\"none\" stroke=\"currentColor\"/>\n",
       "    <text dy=\"1.25em\" style=\"font-size: 0.8em; letter-spacing: 1px\">\n",
       "        <textPath xlink:href=\"#arrow-ae6cbfccbc914edabddac056eed684bf-0-17\" class=\"displacy-label\" startOffset=\"50%\" side=\"left\" fill=\"currentColor\" text-anchor=\"middle\">pobj</textPath>\n",
       "    </text>\n",
       "    <path class=\"displacy-arrowhead\" d=\"M2205.0,424.0 L2213.0,412.0 2197.0,412.0\" fill=\"currentColor\"/>\n",
       "</g>\n",
       "</svg></span>"
      ],
      "text/plain": [
       "<IPython.core.display.HTML object>"
      ]
     },
     "metadata": {},
     "output_type": "display_data"
    }
   ],
   "source": [
    "displacy.render(sentence[3], style='dep', jupyter=True, options={'distance': 120})"
   ]
  },
  {
   "cell_type": "markdown",
   "metadata": {},
   "source": [
    "### 6. Show the first two named entities from the Beatrix Potter's *The Tale of Peter Rabbit**"
   ]
  },
  {
   "cell_type": "code",
   "execution_count": 504,
   "metadata": {},
   "outputs": [],
   "source": [
    "ner = [entity for entity in doc.ents]    "
   ]
  },
  {
   "cell_type": "code",
   "execution_count": 505,
   "metadata": {},
   "outputs": [
    {
     "name": "stdout",
     "output_type": "stream",
     "text": [
      "The Tale of Peter Rabbit - WORK_OF_ART - Titles of books, songs, etc.\n",
      "Beatrix Potter - ORG - Companies, agencies, institutions, etc.\n"
     ]
    }
   ],
   "source": [
    "print(ner[0].text + ' - ' + ner[0].label_ + ' - ' + str(spacy.explain(ner[0].label_)))\n",
    "print(ner[1].text + ' - ' + ner[1].label_ + ' - ' + str(spacy.explain(ner[1].label_)))"
   ]
  },
  {
   "cell_type": "markdown",
   "metadata": {},
   "source": [
    "### 7. How many sentences are contained in The Tale of Peter Rabbit?"
   ]
  },
  {
   "cell_type": "code",
   "execution_count": 506,
   "metadata": {},
   "outputs": [
    {
     "name": "stdout",
     "output_type": "stream",
     "text": [
      "Total sentences :76\n"
     ]
    }
   ],
   "source": [
    "print('Total sentences :'+str(len(sentence)))"
   ]
  },
  {
   "cell_type": "markdown",
   "metadata": {},
   "source": [
    "### 8. CHALLENGE: How many sentences contain named entities?"
   ]
  },
  {
   "cell_type": "code",
   "execution_count": 507,
   "metadata": {},
   "outputs": [
    {
     "name": "stdout",
     "output_type": "stream",
     "text": [
      "Sentence : 0\n",
      "[The Tale of Peter Rabbit, Beatrix Potter, 1902]\n",
      "Sentence : 1\n",
      "[four, Rabbits, Peter]\n",
      "Sentence : 4\n",
      "[one morning, McGregor, McGregor]\n",
      "Sentence : 7\n",
      "[Rabbit, baker]\n",
      "Sentence : 8\n",
      "[five]\n",
      "Sentence : 9\n",
      "[Flopsy, Mopsy, Cottontail]\n",
      "Sentence : 10\n",
      "[McGregor]\n",
      "Sentence : 12\n",
      "[First, French]\n",
      "Sentence : 15\n",
      "[McGregor]\n",
      "Sentence : 16\n",
      "[McGregor]\n",
      "Sentence : 17\n",
      "[Peter]\n",
      "Sentence : 20\n",
      "[one]\n",
      "Sentence : 21\n",
      "[four]\n",
      "Sentence : 24\n",
      "[McGregor, Peter, Peter]\n",
      "Sentence : 28\n",
      "[McGregor, Peter]\n",
      "Sentence : 32\n",
      "[McGregor]\n",
      "Sentence : 34\n",
      "[Peter, three]\n",
      "Sentence : 35\n",
      "[McGregor, Peter]\n",
      "Sentence : 44\n",
      "[Peter]\n",
      "Sentence : 49\n",
      "[McGregor]\n",
      "Sentence : 51\n",
      "[Benjamin Bunny]\n",
      "Sentence : 55\n",
      "[Peter]\n",
      "Sentence : 58\n",
      "[first, McGregor]\n",
      "Sentence : 59\n",
      "[Peter]\n",
      "Sentence : 62\n",
      "[McGregor, Peter]\n",
      "Sentence : 64\n",
      "[McGregor]\n",
      "Sentence : 69\n",
      "[second, Peter]\n",
      "Sentence : 70\n",
      "[Peter]\n",
      "Sentence : 72\n",
      "[One]\n",
      "Sentence : 74\n",
      "[Flopsy, Mopsy, Cotton]\n"
     ]
    }
   ],
   "source": [
    "ner_s =0\n",
    "for s in range(len(sentence)):\n",
    "    if (len(sentence[s].ents)>0):\n",
    "        print('Sentence : '+str(s))\n",
    "        print(sentence[s].ents)\n",
    "        ner_s=ner_s+1"
   ]
  },
  {
   "cell_type": "code",
   "execution_count": 508,
   "metadata": {},
   "outputs": [
    {
     "name": "stdout",
     "output_type": "stream",
     "text": [
      "Total number of sentences containing named entities : 30\n"
     ]
    }
   ],
   "source": [
    "print('Total number of sentences containing named entities : '+str(ner_s))"
   ]
  },
  {
   "cell_type": "markdown",
   "metadata": {},
   "source": [
    "### 9. CHALLENGE: Display the named entity visualization for list_of_sents[0] from the previous problem"
   ]
  },
  {
   "cell_type": "code",
   "execution_count": 509,
   "metadata": {},
   "outputs": [
    {
     "data": {
      "text/html": [
       "<span class=\"tex2jax_ignore\"><div class=\"entities\" style=\"line-height: 2.5; direction: ltr\">\n",
       "<mark class=\"entity\" style=\"background: #f0d0ff; padding: 0.45em 0.6em; margin: 0 0.25em; line-height: 1; border-radius: 0.35em;\">\n",
       "    The Tale of Peter Rabbit\n",
       "    <span style=\"font-size: 0.8em; font-weight: bold; line-height: 1; border-radius: 0.35em; vertical-align: middle; margin-left: 0.5rem\">WORK_OF_ART</span>\n",
       "</mark>\n",
       ", by \n",
       "<mark class=\"entity\" style=\"background: #7aecec; padding: 0.45em 0.6em; margin: 0 0.25em; line-height: 1; border-radius: 0.35em;\">\n",
       "    Beatrix Potter\n",
       "    <span style=\"font-size: 0.8em; font-weight: bold; line-height: 1; border-radius: 0.35em; vertical-align: middle; margin-left: 0.5rem\">ORG</span>\n",
       "</mark>\n",
       " (\n",
       "<mark class=\"entity\" style=\"background: #bfe1d9; padding: 0.45em 0.6em; margin: 0 0.25em; line-height: 1; border-radius: 0.35em;\">\n",
       "    1902\n",
       "    <span style=\"font-size: 0.8em; font-weight: bold; line-height: 1; border-radius: 0.35em; vertical-align: middle; margin-left: 0.5rem\">DATE</span>\n",
       "</mark>\n",
       ").</div></span>"
      ],
      "text/plain": [
       "<IPython.core.display.HTML object>"
      ]
     },
     "metadata": {},
     "output_type": "display_data"
    }
   ],
   "source": [
    "displacy.render(sentence[0], style='ent', jupyter=True)"
   ]
  },
  {
   "cell_type": "code",
   "execution_count": null,
   "metadata": {},
   "outputs": [],
   "source": []
  }
 ],
 "metadata": {
  "kernelspec": {
   "display_name": "Python 3",
   "language": "python",
   "name": "python3"
  },
  "language_info": {
   "codemirror_mode": {
    "name": "ipython",
    "version": 3
   },
   "file_extension": ".py",
   "mimetype": "text/x-python",
   "name": "python",
   "nbconvert_exporter": "python",
   "pygments_lexer": "ipython3",
   "version": "3.8.5"
  }
 },
 "nbformat": 4,
 "nbformat_minor": 4
}
